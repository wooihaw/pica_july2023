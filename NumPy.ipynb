{
 "cells": [
  {
   "cell_type": "markdown",
   "id": "9e441e06",
   "metadata": {},
   "source": [
    "# NumPy\n",
    "NumPy is the fundamental library for scientific computing with Python. NumPy is centered around a powerful N-dimensional array object, and it also contains useful linear algebra, random number functions etc."
   ]
  },
  {
   "cell_type": "code",
   "execution_count": null,
   "id": "9e46b999",
   "metadata": {},
   "outputs": [],
   "source": [
    "# Import NumPy\n",
    "import numpy as np"
   ]
  },
  {
   "cell_type": "markdown",
   "id": "0249f865",
   "metadata": {},
   "source": [
    "## NumPy Array\n",
    "Creating arrays\n",
    "\n",
    "* `np.zeros`\n",
    "* `np.ones`\n",
    "* `np.full`\n",
    "* `np.repeat`\n",
    "* `np.array`\n",
    "* `np.arange`"
   ]
  },
  {
   "cell_type": "code",
   "execution_count": null,
   "id": "da97ffe3",
   "metadata": {},
   "outputs": [],
   "source": [
    "zeros = np.zeros(10)\n",
    "print(zeros)"
   ]
  },
  {
   "cell_type": "code",
   "execution_count": null,
   "id": "efa274d3",
   "metadata": {},
   "outputs": [],
   "source": [
    "ones = np.ones(10)\n",
    "print(ones)"
   ]
  },
  {
   "cell_type": "code",
   "execution_count": null,
   "id": "1bd41aa9",
   "metadata": {},
   "outputs": [],
   "source": [
    "array = np.full(10, 0.0)\n",
    "print(array)"
   ]
  },
  {
   "cell_type": "code",
   "execution_count": null,
   "id": "57172989",
   "metadata": {},
   "outputs": [],
   "source": [
    "array = np.repeat(0.0, 10) \n",
    "print(array)"
   ]
  },
  {
   "cell_type": "code",
   "execution_count": null,
   "id": "da3201e6",
   "metadata": {},
   "outputs": [],
   "source": [
    "array = np.repeat([0.0, 1.0], 5)\n",
    "print(array)"
   ]
  },
  {
   "cell_type": "code",
   "execution_count": null,
   "id": "344d7943",
   "metadata": {},
   "outputs": [],
   "source": [
    "array = np.repeat([0.0, 1.0], [2, 3])\n",
    "print(array)"
   ]
  },
  {
   "cell_type": "code",
   "execution_count": null,
   "id": "0e078d55",
   "metadata": {},
   "outputs": [],
   "source": [
    "# Accessing the element of an array by index\n",
    "el = array[1]\n",
    "print(el)"
   ]
  },
  {
   "cell_type": "code",
   "execution_count": null,
   "id": "33d804e7",
   "metadata": {},
   "outputs": [],
   "source": [
    "# Accessing multuple elements of an array by a list of indices\n",
    "smallarr = array[[4, 2, 0]]\n",
    "print(smallarr)"
   ]
  },
  {
   "cell_type": "code",
   "execution_count": null,
   "id": "f475c935",
   "metadata": {},
   "outputs": [],
   "source": [
    "# Assignment\n",
    "array[1] = 1\n",
    "print(array)"
   ]
  },
  {
   "cell_type": "code",
   "execution_count": null,
   "id": "49918785",
   "metadata": {},
   "outputs": [],
   "source": [
    "# Creating an array from a list with integers\n",
    "elements = [1, 2, 3, 4]\n",
    "array = np.array(elements)\n",
    "print(array)"
   ]
  },
  {
   "cell_type": "code",
   "execution_count": null,
   "id": "05b9722b",
   "metadata": {},
   "outputs": [],
   "source": [
    "# Specifying the type of elements\n",
    "zeros = np.zeros(10, dtype=np.uint8)\n",
    "print(zeros)"
   ]
  },
  {
   "cell_type": "code",
   "execution_count": null,
   "id": "0988f67f",
   "metadata": {},
   "outputs": [],
   "source": [
    "# Be careful with overflowing\n",
    "zeros[0] = 300\n",
    "print(zeros)\n",
    "\n",
    "print(300 % 256)"
   ]
  },
  {
   "cell_type": "code",
   "execution_count": null,
   "id": "bb06d50e",
   "metadata": {},
   "outputs": [],
   "source": [
    "# Use np.arange for creating ranges\n",
    "for i in np.arange(0, 5, 0.5):\n",
    "    print(i)"
   ]
  },
  {
   "cell_type": "code",
   "execution_count": null,
   "id": "9a45e9ea",
   "metadata": {},
   "outputs": [],
   "source": [
    "# Use Linspace to create an array with elements from start till end of a certain size\n",
    "thresholds = np.linspace(0, 1, 11)\n",
    "print(thresholds)"
   ]
  },
  {
   "cell_type": "markdown",
   "id": "99602ed7",
   "metadata": {},
   "source": [
    "## Multi-dimensional NumPy arrays"
   ]
  },
  {
   "cell_type": "code",
   "execution_count": null,
   "id": "f55bee36",
   "metadata": {},
   "outputs": [],
   "source": [
    "# Specify the shape with a tuple\n",
    "zeros = np.zeros((5, 2), dtype=np.float32)\n",
    "print(zeros)"
   ]
  },
  {
   "cell_type": "code",
   "execution_count": null,
   "id": "f332bf85",
   "metadata": {},
   "outputs": [],
   "source": [
    "# Print the shape (number of rows and columns)\n",
    "print(zeros.shape)"
   ]
  },
  {
   "cell_type": "code",
   "execution_count": null,
   "id": "8ebdbbc1",
   "metadata": {},
   "outputs": [],
   "source": [
    "numbers = [\n",
    "    [1, 2, 3],\n",
    "    [4, 5, 6],\n",
    "    [7, 8, 9]\n",
    "]\n",
    "\n",
    "numbers = np.array(numbers)\n",
    "print(numbers)"
   ]
  },
  {
   "cell_type": "code",
   "execution_count": null,
   "id": "c099d398",
   "metadata": {},
   "outputs": [],
   "source": [
    "# Accessing the element at row 0 and column 1\n",
    "print(numbers[0, 1])"
   ]
  },
  {
   "cell_type": "code",
   "execution_count": null,
   "id": "03ac9269",
   "metadata": {},
   "outputs": [],
   "source": [
    "# Assignment: use row index, column index\n",
    "numbers[0, 1] = 10\n",
    "print(numbers)"
   ]
  },
  {
   "cell_type": "code",
   "execution_count": null,
   "id": "d123e423",
   "metadata": {},
   "outputs": [],
   "source": [
    "# Print row 0\n",
    "print(numbers[0])"
   ]
  },
  {
   "cell_type": "code",
   "execution_count": null,
   "id": "66da5b73",
   "metadata": {},
   "outputs": [],
   "source": [
    "# Use slicing to get a column\n",
    "print(numbers[:, 1])"
   ]
  },
  {
   "cell_type": "code",
   "execution_count": null,
   "id": "7d947f35",
   "metadata": {},
   "outputs": [],
   "source": [
    "# Assigning values to row 1\n",
    "numbers[1] = [1, 1, 1]\n",
    "print(numbers)"
   ]
  },
  {
   "cell_type": "code",
   "execution_count": null,
   "id": "24b9346a",
   "metadata": {},
   "outputs": [],
   "source": [
    "# Assigning values to column 2\n",
    "numbers[:, 2] = [9, 9, 9]\n",
    "print(numbers)"
   ]
  },
  {
   "cell_type": "markdown",
   "id": "2a952a5f",
   "metadata": {},
   "source": [
    "## Randomly generated arrays"
   ]
  },
  {
   "cell_type": "code",
   "execution_count": null,
   "id": "504af358",
   "metadata": {},
   "outputs": [],
   "source": [
    "# Uniform random numbers between 0 and 1 of shape (5, 2)\n",
    "arr = np.random.rand(5, 2)\n",
    "print(arr)"
   ]
  },
  {
   "cell_type": "code",
   "execution_count": null,
   "id": "cabcb8bf",
   "metadata": {},
   "outputs": [],
   "source": [
    "# Set seed for reproducibility\n",
    "np.random.seed(2)\n",
    "arr = np.random.rand(5, 2)\n",
    "print(arr)"
   ]
  },
  {
   "cell_type": "code",
   "execution_count": null,
   "id": "05aa6861",
   "metadata": {},
   "outputs": [],
   "source": [
    "np.random.seed(2)\n",
    "arr = np.random.randn(5, 2)\n",
    "print(arr)"
   ]
  },
  {
   "cell_type": "code",
   "execution_count": null,
   "id": "005031d8",
   "metadata": {},
   "outputs": [],
   "source": [
    "# Random integers between 0 and 99 (100 is not included)\n",
    "np.random.seed(2)\n",
    "np.random.randint(low=0, high=100, size=(5, 2))"
   ]
  },
  {
   "cell_type": "markdown",
   "id": "8fe07059",
   "metadata": {},
   "source": [
    "## Element-wise operations"
   ]
  },
  {
   "cell_type": "code",
   "execution_count": null,
   "id": "a921b8b2",
   "metadata": {},
   "outputs": [],
   "source": [
    "# Create an array\n",
    "rng = np.arange(5)\n",
    "print(rng)"
   ]
  },
  {
   "cell_type": "code",
   "execution_count": null,
   "id": "f2afd9c8",
   "metadata": {},
   "outputs": [],
   "source": [
    "# Every item in the array is multiplied by 2\n",
    "print(rng * 2)"
   ]
  },
  {
   "cell_type": "code",
   "execution_count": null,
   "id": "972d866c",
   "metadata": {},
   "outputs": [],
   "source": [
    "# Apply arithmetic operations on each element\n",
    "print((rng - 1) * 3 / 2 + 1)"
   ]
  },
  {
   "cell_type": "code",
   "execution_count": null,
   "id": "4de14820",
   "metadata": {},
   "outputs": [],
   "source": [
    "# Adding one array with another\n",
    "np.random.seed(2)\n",
    "noise = 0.01 * np.random.rand(5)\n",
    "print(noise)\n",
    "\n",
    "numbers = np.arange(5)\n",
    "print(numbers)\n",
    "\n",
    "result = numbers + noise\n",
    "print(result)"
   ]
  },
  {
   "cell_type": "code",
   "execution_count": null,
   "id": "a3f8d7ed",
   "metadata": {},
   "outputs": [],
   "source": [
    "# Rounding the numbers to 4th digit\n",
    "print(result.round(4))"
   ]
  },
  {
   "cell_type": "code",
   "execution_count": null,
   "id": "82dfd8a5",
   "metadata": {},
   "outputs": [],
   "source": [
    "# Two ways to square each element\n",
    "pred = np.arange(1, 6)\n",
    "print(pred)\n",
    "\n",
    "sqr1 = np.square(pred)\n",
    "print(sqr1)\n",
    "\n",
    "sqr2 = pred ** 2\n",
    "print(sqr2)"
   ]
  },
  {
   "cell_type": "code",
   "execution_count": null,
   "id": "4774f3f8",
   "metadata": {},
   "outputs": [],
   "source": [
    "# Other element-wise operations\n",
    "# Calculate the exponential of each element\n",
    "print(np.exp(pred))\n",
    "\n",
    "# Calculate the natural logarithm of each element\n",
    "print(np.log(pred))\n",
    "\n",
    "# Calculate the square-root of each element\n",
    "print(np.sqrt(pred))"
   ]
  },
  {
   "cell_type": "markdown",
   "id": "f55aea22",
   "metadata": {},
   "source": [
    "# Comparison operations"
   ]
  },
  {
   "cell_type": "code",
   "execution_count": null,
   "id": "3316c882",
   "metadata": {},
   "outputs": [],
   "source": [
    "np.random.seed(2)\n",
    "pred1 = np.random.rand(3).round(2)\n",
    "print(pred1)"
   ]
  },
  {
   "cell_type": "code",
   "execution_count": null,
   "id": "cae704f7",
   "metadata": {},
   "outputs": [],
   "source": [
    "result = pred1 >= 0.5\n",
    "print(result)"
   ]
  },
  {
   "cell_type": "code",
   "execution_count": null,
   "id": "a3120373",
   "metadata": {},
   "outputs": [],
   "source": [
    "np.random.seed(3)\n",
    "pred2 = np.random.rand(3).round(2)\n",
    "print(pred2)"
   ]
  },
  {
   "cell_type": "code",
   "execution_count": null,
   "id": "7c278593",
   "metadata": {},
   "outputs": [],
   "source": [
    "print(pred1 >= pred2)"
   ]
  },
  {
   "cell_type": "code",
   "execution_count": null,
   "id": "64eb31c2",
   "metadata": {},
   "outputs": [],
   "source": [
    "res1 = pred1 >= 0.3 \n",
    "print(res1)"
   ]
  },
  {
   "cell_type": "code",
   "execution_count": null,
   "id": "3d234f31",
   "metadata": {},
   "outputs": [],
   "source": [
    "res2 = pred2 >= 0.5\n",
    "print(res2)"
   ]
  },
  {
   "cell_type": "code",
   "execution_count": null,
   "id": "a6dac0e0",
   "metadata": {},
   "outputs": [],
   "source": [
    "# Logical operations\n",
    "# Logical AND\n",
    "print(res1 & res2)\n",
    "\n",
    "# Logical OR\n",
    "print(res1 | res2)"
   ]
  },
  {
   "cell_type": "markdown",
   "id": "086411b4",
   "metadata": {},
   "source": [
    "## Summarizing operations"
   ]
  },
  {
   "cell_type": "code",
   "execution_count": null,
   "id": "f45c9fec",
   "metadata": {},
   "outputs": [],
   "source": [
    "# Summarizing operations process an array and return a single number\n",
    "np.random.seed(2)\n",
    "pred = np.random.rand(3).round(2)\n",
    "print(pred)\n",
    "\n",
    "print(f'sum = {pred.sum():.2f}')\n",
    "print(f'min = {pred.min():.2f}')\n",
    "print(f'mean = {pred.mean():.2f}')\n",
    "print(f'max = {pred.max():.2f}')\n",
    "print(f'std = {pred.std():.2f}')"
   ]
  },
  {
   "cell_type": "code",
   "execution_count": null,
   "id": "64b41749",
   "metadata": {},
   "outputs": [],
   "source": [
    "# For two-dimentional array it works in the same way\n",
    "np.random.seed(2)\n",
    "matrix = np.random.rand(4, 3).round(2)\n",
    "print(matrix)\n",
    "\n",
    "print(matrix.max())"
   ]
  },
  {
   "cell_type": "code",
   "execution_count": null,
   "id": "1a79df2a",
   "metadata": {},
   "outputs": [],
   "source": [
    "# We can specify the axis along which we apply the summarizing operation\n",
    "# axis=0 - apply to each column\n",
    "print(matrix.max(axis=0))\n",
    "\n",
    "# axis=1 - apply to each rows\n",
    "print(matrix.max(axis=1))"
   ]
  },
  {
   "cell_type": "code",
   "execution_count": null,
   "id": "f8dd77cb",
   "metadata": {},
   "outputs": [],
   "source": [
    "# Calculate the sum of each row\n",
    "print(matrix.sum(axis=1))"
   ]
  },
  {
   "cell_type": "markdown",
   "id": "75004c54",
   "metadata": {},
   "source": [
    "## Reshaping"
   ]
  },
  {
   "cell_type": "code",
   "execution_count": null,
   "id": "9b08be2a",
   "metadata": {},
   "outputs": [],
   "source": [
    "rng = np.arange(12)\n",
    "print(rng)\n",
    "print(rng.shape)"
   ]
  },
  {
   "cell_type": "code",
   "execution_count": null,
   "id": "b248ad7f",
   "metadata": {},
   "outputs": [],
   "source": [
    "# The shape of an array cound be changed\n",
    "rng2 = rng.reshape(4, 3)\n",
    "print(rng2)\n",
    "print(rng2.shape)"
   ]
  },
  {
   "cell_type": "code",
   "execution_count": null,
   "id": "162ee2ac",
   "metadata": {},
   "outputs": [],
   "source": [
    "rng3 = rng.reshape(4, 3, order='F')\n",
    "print(rng3)\n",
    "print(rng3.shape)"
   ]
  },
  {
   "cell_type": "code",
   "execution_count": null,
   "id": "5eece8ef",
   "metadata": {},
   "outputs": [],
   "source": [
    "# the number of rows x columns should be equal to the total number of elements\n",
    "rng4 = rng.reshape(4, 4)"
   ]
  },
  {
   "cell_type": "markdown",
   "id": "aef17bab",
   "metadata": {},
   "source": [
    "## Combining mulitple arrays"
   ]
  },
  {
   "cell_type": "code",
   "execution_count": null,
   "id": "bf77aba1",
   "metadata": {},
   "outputs": [],
   "source": [
    "vec = np.arange(3)\n",
    "print(vec)"
   ]
  },
  {
   "cell_type": "code",
   "execution_count": null,
   "id": "36bb3cd3",
   "metadata": {},
   "outputs": [],
   "source": [
    "mat = np.arange(6).reshape(3, 2)\n",
    "print(mat)"
   ]
  },
  {
   "cell_type": "code",
   "execution_count": null,
   "id": "fbc212f7",
   "metadata": {},
   "outputs": [],
   "source": [
    "# Concaternate\n",
    "arr1 = np.concatenate([vec, vec])\n",
    "print(arr1)\n",
    "print(arr1.shape)"
   ]
  },
  {
   "cell_type": "code",
   "execution_count": null,
   "id": "1953e638",
   "metadata": {},
   "outputs": [],
   "source": [
    "arr2 = np.concatenate([mat, mat])\n",
    "print(arr2)\n",
    "print(arr2.shape)"
   ]
  },
  {
   "cell_type": "code",
   "execution_count": null,
   "id": "c12241af",
   "metadata": {},
   "outputs": [],
   "source": [
    "# Horizontal stack\n",
    "arr3 = np.hstack([vec, vec])\n",
    "print(arr3)\n",
    "print(arr3.shape)"
   ]
  },
  {
   "cell_type": "code",
   "execution_count": null,
   "id": "da2d7bb0",
   "metadata": {},
   "outputs": [],
   "source": [
    "arr4 = np.hstack([mat, mat])\n",
    "print(arr4)\n",
    "print(arr4.shape)"
   ]
  },
  {
   "cell_type": "code",
   "execution_count": null,
   "id": "570a7cac",
   "metadata": {},
   "outputs": [],
   "source": [
    "# Vertical stack\n",
    "arr5 = np.vstack([vec, vec])\n",
    "print(arr5)\n",
    "print(arr5.shape)"
   ]
  },
  {
   "cell_type": "code",
   "execution_count": null,
   "id": "2536583e",
   "metadata": {},
   "outputs": [],
   "source": [
    "arr6 = np.vstack([mat, mat])\n",
    "print(arr6)\n",
    "print(arr6.shape)"
   ]
  },
  {
   "cell_type": "code",
   "execution_count": null,
   "id": "c5e672f8",
   "metadata": {},
   "outputs": [],
   "source": [
    "# Column stack\n",
    "arr7 = np.column_stack([vec, vec])\n",
    "print(arr7)\n",
    "print(arr7.shape)"
   ]
  },
  {
   "cell_type": "code",
   "execution_count": null,
   "id": "7f9368a0",
   "metadata": {},
   "outputs": [],
   "source": [
    "arr8 = np.column_stack([mat, mat])\n",
    "print(arr8)\n",
    "print(arr8.shape)"
   ]
  },
  {
   "cell_type": "markdown",
   "id": "edc40feb",
   "metadata": {},
   "source": [
    "## Slicing NumPy Array"
   ]
  },
  {
   "cell_type": "code",
   "execution_count": null,
   "id": "47ba9541",
   "metadata": {},
   "outputs": [],
   "source": [
    "mat = np.arange(15).reshape(5, 3)\n",
    "print(mat)"
   ]
  },
  {
   "cell_type": "code",
   "execution_count": null,
   "id": "354973f9",
   "metadata": {},
   "outputs": [],
   "source": [
    "# First 3 rows\n",
    "print(mat[:3])"
   ]
  },
  {
   "cell_type": "code",
   "execution_count": null,
   "id": "46eb33db",
   "metadata": {},
   "outputs": [],
   "source": [
    "# Last 2 columns\n",
    "print(mat[:, -2:])"
   ]
  },
  {
   "cell_type": "code",
   "execution_count": null,
   "id": "34a8d15c",
   "metadata": {},
   "outputs": [],
   "source": [
    "# Row 1 & 2, Column 0 & 1\n",
    "print(mat[1:3, :2])"
   ]
  },
  {
   "cell_type": "code",
   "execution_count": null,
   "id": "5a289fc5",
   "metadata": {},
   "outputs": [],
   "source": [
    "# Row 3, 0 and 1\n",
    "print(mat[[3, 0, 1]])"
   ]
  },
  {
   "cell_type": "code",
   "execution_count": null,
   "id": "f7861414",
   "metadata": {},
   "outputs": [],
   "source": [
    "# Rows with column 0 not divisible by 2\n",
    "print(mat[:, 0] % 2 == 1)\n",
    "\n",
    "# Print only the rows with column 0 not divisible by 2\n",
    "print(mat[mat[:, 0] % 2 == 1])"
   ]
  },
  {
   "cell_type": "markdown",
   "id": "4b6f26e0",
   "metadata": {},
   "source": [
    "## Linear Algebra"
   ]
  },
  {
   "cell_type": "code",
   "execution_count": null,
   "id": "2404ae8e",
   "metadata": {},
   "outputs": [],
   "source": [
    "# Solving the following system of linear equations\n",
    "# 2𝑥 + 6𝑦 = 6\n",
    "# 5𝑥 + 3𝑦 = −9\n",
    "\n",
    "coeffs = np.array([[2, 6], [5, 3]])\n",
    "depvars = np.array([6, -9])\n",
    "sol = np.linalg.solve(coeffs, depvars)\n",
    "print(f'x = {sol[0]}, y = {sol[1]}')"
   ]
  }
 ],
 "metadata": {
  "kernelspec": {
   "display_name": "Python 3 (ipykernel)",
   "language": "python",
   "name": "python3"
  },
  "language_info": {
   "codemirror_mode": {
    "name": "ipython",
    "version": 3
   },
   "file_extension": ".py",
   "mimetype": "text/x-python",
   "name": "python",
   "nbconvert_exporter": "python",
   "pygments_lexer": "ipython3",
   "version": "3.9.12"
  }
 },
 "nbformat": 4,
 "nbformat_minor": 5
}
