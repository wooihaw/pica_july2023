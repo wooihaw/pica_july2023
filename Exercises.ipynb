{
 "cells": [
  {
   "cell_type": "markdown",
   "id": "74ab0700",
   "metadata": {},
   "source": [
    "# Python Programming Exercises"
   ]
  },
  {
   "cell_type": "markdown",
   "id": "78c38836",
   "metadata": {},
   "source": [
    "### Exercise 1\n",
    "Write a program to solve a classic puzzle: There are 35 heads and 94 legs among the chickens and rabbits in a farm. How many rabbits and how many chickens do we have? Hint: Use for loop to iterate all possible solutions"
   ]
  },
  {
   "cell_type": "code",
   "execution_count": null,
   "id": "14429ce0",
   "metadata": {},
   "outputs": [],
   "source": [
    "# Number of chickens: c\n",
    "# Number of rabbits: r\n"
   ]
  },
  {
   "cell_type": "markdown",
   "id": "00d5ed6e",
   "metadata": {},
   "source": [
    "### Exercise 2\n",
    "In this exercise, the task is to read a set of temperature data (the monthly high temperatures at Heathrow Airport from Jan 1948 through Dec 2016) from a file and then find some basic information: the highest and lowest temperatures, the mean (average) temperature, and the median temperature (the temperature in the middle if all the temperatures are sorted). The temperature data is in the file “data/Heathrow.txt”."
   ]
  },
  {
   "cell_type": "code",
   "execution_count": null,
   "id": "834aaae2",
   "metadata": {},
   "outputs": [],
   "source": [
    "    \n"
   ]
  },
  {
   "cell_type": "markdown",
   "id": "cfcc5c07",
   "metadata": {},
   "source": [
    "### Exercise 3\n",
    "For the problem in Exercise 1, use NumPy by applying linear algebra to find the solution."
   ]
  },
  {
   "cell_type": "code",
   "execution_count": null,
   "id": "5b59253e",
   "metadata": {},
   "outputs": [],
   "source": [
    "\n"
   ]
  },
  {
   "cell_type": "markdown",
   "id": "cddd0ae9",
   "metadata": {},
   "source": [
    "### Exercise 4\n",
    "Solve Exercise 2 by using NumPy."
   ]
  },
  {
   "cell_type": "code",
   "execution_count": null,
   "id": "1faa015d",
   "metadata": {},
   "outputs": [],
   "source": [
    "\n"
   ]
  },
  {
   "cell_type": "markdown",
   "id": "97255668",
   "metadata": {},
   "source": [
    "### Exercise 5\n",
    "Solve Exercise 2 by using Pandas. In addition, find out the hottest month between 1948 and 2016. Plot the mean temperature for each month."
   ]
  },
  {
   "cell_type": "code",
   "execution_count": null,
   "id": "3311ec3b",
   "metadata": {},
   "outputs": [],
   "source": [
    "\n"
   ]
  },
  {
   "cell_type": "markdown",
   "id": "f2ec789a",
   "metadata": {},
   "source": [
    "### Exercise 6\n",
    "Plot two cycles of a sinusoidal voltage waveform with an amplitude of 2 and frequency of 50Hz and a DC offset of 5V. Calculate the average voltage and root mean square (RMS) voltage."
   ]
  },
  {
   "cell_type": "code",
   "execution_count": null,
   "id": "64f05ca5",
   "metadata": {},
   "outputs": [],
   "source": [
    "\n"
   ]
  },
  {
   "cell_type": "markdown",
   "id": "0bcccd92",
   "metadata": {},
   "source": [
    "### Exercise 7\n",
    "Below are the data points of a sawtooth current:\\\n",
    "    f2 = 50\\\n",
    "    t2 = np.linspace(0, 0.04, 41)\\\n",
    "    i = 2 * (f2 * t2 - np.floor(0.5 + f2 * t2)) + 1\n",
    "\n",
    "Plot the current and the power if the voltage is as shown in Exercise 6."
   ]
  },
  {
   "cell_type": "code",
   "execution_count": null,
   "id": "f09397df",
   "metadata": {},
   "outputs": [],
   "source": [
    "\n"
   ]
  },
  {
   "cell_type": "markdown",
   "id": "ecf4531b",
   "metadata": {},
   "source": [
    "### Exercise 8\n",
    "A voltage waveform has been downloaded from an oscilloscope by using PyVISA. The waveform is stored in the CSV file format and the file can be accessed as 'data/waveform_data.csv'. Load and plot the waveform from the CSV file."
   ]
  },
  {
   "cell_type": "code",
   "execution_count": null,
   "id": "b53e91d0",
   "metadata": {
    "scrolled": true
   },
   "outputs": [],
   "source": [
    "\n"
   ]
  }
 ],
 "metadata": {
  "kernelspec": {
   "display_name": "Python 3 (ipykernel)",
   "language": "python",
   "name": "python3"
  },
  "language_info": {
   "codemirror_mode": {
    "name": "ipython",
    "version": 3
   },
   "file_extension": ".py",
   "mimetype": "text/x-python",
   "name": "python",
   "nbconvert_exporter": "python",
   "pygments_lexer": "ipython3",
   "version": "3.10.11"
  },
  "vscode": {
   "interpreter": {
    "hash": "1454e057f7b9b2e33aa4c09559724d1b54fc8ccbcaeefe18761f3767900db637"
   }
  }
 },
 "nbformat": 4,
 "nbformat_minor": 5
}
