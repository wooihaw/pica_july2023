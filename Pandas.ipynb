{
 "cells": [
  {
   "cell_type": "markdown",
   "id": "f2a9ad4f",
   "metadata": {},
   "source": [
    "# Pandas\n",
    "The Pandas library provides high-performance, easy-to-use data structures and analysis tools for tabular data"
   ]
  },
  {
   "cell_type": "code",
   "execution_count": null,
   "id": "2f6b7e48",
   "metadata": {},
   "outputs": [],
   "source": [
    "# Standard way to import the Pandas library\n",
    "import pandas as pd\n",
    "\n",
    "# Usually used together with NumPy and Matplotlib\n",
    "import numpy as np\n",
    "import matplotlib.pyplot as plt"
   ]
  },
  {
   "cell_type": "code",
   "execution_count": null,
   "id": "1221cceb",
   "metadata": {},
   "outputs": [],
   "source": [
    "# Create a Pandas series from array\n",
    "f1 = 1\n",
    "x1 = np.linspace(0, 1, 11)\n",
    "y1 = np.sin(2 * np.pi * f1 * x1)\n",
    "\n",
    "# Create a series\n",
    "signal1 = pd.Series(y1, name='y1')\n",
    "print(signal1) "
   ]
  },
  {
   "cell_type": "code",
   "execution_count": null,
   "id": "efcc6684",
   "metadata": {
    "scrolled": true
   },
   "outputs": [],
   "source": [
    "# Use timedelta to the Series\n",
    "signal1.index = pd.to_timedelta(x1, unit='s')\n",
    "print(signal1)"
   ]
  },
  {
   "cell_type": "markdown",
   "id": "87b086e4",
   "metadata": {},
   "source": [
    "## # Select data by index value"
   ]
  },
  {
   "cell_type": "code",
   "execution_count": null,
   "id": "9574580c",
   "metadata": {},
   "outputs": [],
   "source": [
    "# Just like a dictionary\n",
    "print(signal1['0.5s'])\n",
    "\n",
    "# Or by index position--like an array\n",
    "print(signal1[5])"
   ]
  },
  {
   "cell_type": "markdown",
   "id": "cd69bb13",
   "metadata": {},
   "source": [
    "## Resample data"
   ]
  },
  {
   "cell_type": "code",
   "execution_count": null,
   "id": "0277e244",
   "metadata": {},
   "outputs": [],
   "source": [
    "# Up-sampling\n",
    "signal2 = signal1.resample('50ms').interpolate(method='linear')\n",
    "print(signal2)"
   ]
  },
  {
   "cell_type": "code",
   "execution_count": null,
   "id": "557c9cc8",
   "metadata": {},
   "outputs": [],
   "source": [
    "# Down-sampling\n",
    "signal3 = signal1.resample('200ms').asfreq()\n",
    "print(signal3)"
   ]
  },
  {
   "cell_type": "markdown",
   "id": "9750b0fc",
   "metadata": {},
   "source": [
    "## Invalid/Missing data can be easily filled with values"
   ]
  },
  {
   "cell_type": "code",
   "execution_count": null,
   "id": "a982aa4d",
   "metadata": {},
   "outputs": [],
   "source": [
    "# Create invalid data\n",
    "signal1[1:3] = np.NaN\n",
    "print(signal1)"
   ]
  },
  {
   "cell_type": "code",
   "execution_count": null,
   "id": "e97119d2",
   "metadata": {},
   "outputs": [],
   "source": [
    "# Now fill it in with zeros\n",
    "signal1 = signal1.fillna(0)\n",
    "# equivalently, \n",
    "# step_counts.fillna(0., inplace=True)\n",
    "\n",
    "print(signal1)"
   ]
  },
  {
   "cell_type": "markdown",
   "id": "735b2d41",
   "metadata": {},
   "source": [
    "## Pandas DataFrame"
   ]
  },
  {
   "cell_type": "code",
   "execution_count": null,
   "id": "c1275cc2",
   "metadata": {},
   "outputs": [],
   "source": [
    "# Create DataFrame from NumPy arrays\n",
    "f1, f2 = 0.5, 1\n",
    "x = np.linspace(0, 1, 11)\n",
    "y1 = np.sin(2 * np.pi * f1 * x)\n",
    "y2 = np.sin(2 * np.pi * f2 * x)\n",
    "\n",
    "print(y1)\n",
    "print(y2)"
   ]
  },
  {
   "cell_type": "code",
   "execution_count": null,
   "id": "7d210568",
   "metadata": {},
   "outputs": [],
   "source": [
    "# Create DataFrame\n",
    "df = pd.DataFrame(data={'y1':y1, 'y2':y2})\n",
    "print(df)\n",
    "df.index = pd.to_timedelta(x, unit='s')\n",
    "print(df)"
   ]
  },
  {
   "cell_type": "markdown",
   "id": "584e684d",
   "metadata": {},
   "source": [
    "## DataFrame rows can be indexed by row using the 'loc' and 'iloc' methods"
   ]
  },
  {
   "cell_type": "code",
   "execution_count": null,
   "id": "e3f9adf9",
   "metadata": {},
   "outputs": [],
   "source": [
    "# Select row of data by index name\n",
    "print(df.loc['0.8s'])"
   ]
  },
  {
   "cell_type": "code",
   "execution_count": null,
   "id": "266426df",
   "metadata": {},
   "outputs": [],
   "source": [
    "# Select row of data by integer position\n",
    "print(df.iloc[-3])"
   ]
  },
  {
   "cell_type": "markdown",
   "id": "6090cf41",
   "metadata": {},
   "source": [
    "## DataFrame columns can be indexed by row using 'loc' and 'iloc' methods"
   ]
  },
  {
   "cell_type": "code",
   "execution_count": null,
   "id": "dba58c7d",
   "metadata": {},
   "outputs": [],
   "source": [
    "# Dictionary approach\n",
    "print(df['y2'])"
   ]
  },
  {
   "cell_type": "code",
   "execution_count": null,
   "id": "6ff1afa2",
   "metadata": {},
   "outputs": [],
   "source": [
    "# First column (Column 1)\n",
    "print(df.iloc[:,1])"
   ]
  },
  {
   "cell_type": "markdown",
   "id": "c4daed9c",
   "metadata": {},
   "source": [
    "## Pandas has built-in methods that simplify creating visualizations from DataFrame and Series"
   ]
  },
  {
   "cell_type": "code",
   "execution_count": null,
   "id": "1d4caa6c",
   "metadata": {},
   "outputs": [],
   "source": [
    "# plot the Series\n",
    "signal2.plot()\n",
    "plt.show()"
   ]
  },
  {
   "cell_type": "code",
   "execution_count": null,
   "id": "fb857b85",
   "metadata": {},
   "outputs": [],
   "source": [
    "# plot the DataFrame\n",
    "df.plot(marker='*', title='DataFrame Plot')\n",
    "plt.show()"
   ]
  },
  {
   "cell_type": "markdown",
   "id": "590e4f49",
   "metadata": {},
   "source": [
    "## CSV and other common filetypes can be read with a single command"
   ]
  },
  {
   "cell_type": "code",
   "execution_count": null,
   "id": "92fb0afc",
   "metadata": {},
   "outputs": [],
   "source": [
    "# The location of the data file\n",
    "filepath = 'data/iris_data.csv'\n",
    "\n",
    "# Import the data\n",
    "data = pd.read_csv(filepath)\n",
    "\n",
    "# Print a few rows \n",
    "print(data.iloc[:5])"
   ]
  },
  {
   "cell_type": "markdown",
   "id": "9adf6d66",
   "metadata": {},
   "source": [
    "## Using the groupby method calculated aggregated DataFrame statistics."
   ]
  },
  {
   "cell_type": "code",
   "execution_count": null,
   "id": "f7e84517",
   "metadata": {},
   "outputs": [],
   "source": [
    "# Use the size method with a \n",
    "# DataFrame to get count\n",
    "# For a Series, use the .value_counts \n",
    "# method\n",
    "group_sizes = (data.groupby('species').size())\n",
    "\n",
    "print(group_sizes)"
   ]
  },
  {
   "cell_type": "markdown",
   "id": "095bf5e4",
   "metadata": {},
   "source": [
    "## Pandas contains a variety of statistical methods — mean, median, mode, standard deviation etc."
   ]
  },
  {
   "cell_type": "code",
   "execution_count": null,
   "id": "5dcfd2c5",
   "metadata": {},
   "outputs": [],
   "source": [
    "# Mean calculated on a DataFrame\n",
    "print(data.mean())"
   ]
  },
  {
   "cell_type": "code",
   "execution_count": null,
   "id": "d40ea0f8",
   "metadata": {},
   "outputs": [],
   "source": [
    "# Median calculated on a Series\n",
    "print(data.petal_length.median())"
   ]
  },
  {
   "cell_type": "code",
   "execution_count": null,
   "id": "932b44f6",
   "metadata": {},
   "outputs": [],
   "source": [
    "# Mode calculated on a Series\n",
    "print(data.petal_length.mode())"
   ]
  },
  {
   "cell_type": "code",
   "execution_count": null,
   "id": "023b0fa0",
   "metadata": {},
   "outputs": [],
   "source": [
    "# Standard dev, and variance on a series \n",
    "print(data.petal_length.std(), data.petal_length.var())"
   ]
  },
  {
   "cell_type": "code",
   "execution_count": null,
   "id": "d531649f",
   "metadata": {},
   "outputs": [],
   "source": [
    "# Multiple statisccal calculations can be presented in a DataFrame\n",
    "print(data.describe())"
   ]
  },
  {
   "cell_type": "markdown",
   "id": "c0f8525d",
   "metadata": {},
   "source": [
    "## Data can be assigned to a DataFrame column"
   ]
  },
  {
   "cell_type": "code",
   "execution_count": null,
   "id": "adc55862",
   "metadata": {},
   "outputs": [],
   "source": [
    "# Create a new column that is a product \n",
    "# of both measurements\n",
    "data['sepal_area'] = data.sepal_length * data.sepal_width\n",
    "\n",
    "print(data)"
   ]
  },
  {
   "cell_type": "markdown",
   "id": "27874655",
   "metadata": {},
   "source": [
    "## Two DataFrames can be concatenated along either dimension"
   ]
  },
  {
   "cell_type": "code",
   "execution_count": null,
   "id": "37b5968d",
   "metadata": {},
   "outputs": [],
   "source": [
    "# Concatenate the first two and the last two rows\n",
    "first2 = data.iloc[:2]\n",
    "last2 = data.iloc[-2:]\n",
    "small_data = pd.concat([first2, last2])\n",
    "print(small_data)"
   ]
  }
 ],
 "metadata": {
  "kernelspec": {
   "display_name": "Python 3 (ipykernel)",
   "language": "python",
   "name": "python3"
  },
  "language_info": {
   "codemirror_mode": {
    "name": "ipython",
    "version": 3
   },
   "file_extension": ".py",
   "mimetype": "text/x-python",
   "name": "python",
   "nbconvert_exporter": "python",
   "pygments_lexer": "ipython3",
   "version": "3.9.12"
  }
 },
 "nbformat": 4,
 "nbformat_minor": 5
}
