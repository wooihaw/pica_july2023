{
 "cells": [
  {
   "cell_type": "markdown",
   "id": "72d4cdf2",
   "metadata": {},
   "source": [
    "# Matplotlib\n",
    "Use the matplotlib library to plot beautiful graphs"
   ]
  },
  {
   "cell_type": "code",
   "execution_count": null,
   "id": "f7689d41",
   "metadata": {},
   "outputs": [],
   "source": [
    "# Plot in the same cell\n",
    "%matplotlib inline"
   ]
  },
  {
   "cell_type": "code",
   "execution_count": null,
   "id": "d72b0a43",
   "metadata": {},
   "outputs": [],
   "source": [
    "# Standard way to import matplotlib\n",
    "import matplotlib.pyplot as plt\n",
    "\n",
    "# Usually use with NumPy\n",
    "import numpy as np"
   ]
  },
  {
   "cell_type": "code",
   "execution_count": null,
   "id": "a9161525",
   "metadata": {},
   "outputs": [],
   "source": [
    "# Plot a straight line with only y-coordinates\n",
    "# if x-coordinates are not given, matplotlib will use the index of y\n",
    "y = [2, 4, 6, 8]\n",
    "\n",
    "plt.plot(y)\n",
    "plt.show()"
   ]
  },
  {
   "cell_type": "code",
   "execution_count": null,
   "id": "48fdffd0",
   "metadata": {},
   "outputs": [],
   "source": [
    "# Plot a straight line with both x and y-coordinates\n",
    "x = np.arange(4)\n",
    "y = 2 * x + 2\n",
    "\n",
    "plt.plot(x, y, 'r-')\n",
    "plt.plot(x, y, 'b*')\n",
    "plt.show()"
   ]
  },
  {
   "cell_type": "code",
   "execution_count": null,
   "id": "b9ba970f",
   "metadata": {},
   "outputs": [],
   "source": [
    "# Plot a sine wave\n",
    "f = 1\n",
    "x = np.linspace(-1, 1, 50)\n",
    "y = np.sin(2 * np.pi * f * x)\n",
    "\n",
    "plt.figure(figsize=(6, 6))\n",
    "plt.plot(x, y, 'b', label='Sine')\n",
    "plt.xlim(-1, 1)\n",
    "plt.ylim(-1, 1)\n",
    "plt.xticks(np.linspace(-1, 1, 9))\n",
    "plt.yticks(np.linspace(-1, 1, 5))\n",
    "plt.legend(loc='best')\n",
    "plt.grid(axis='both')\n",
    "plt.xlabel('x-coord')\n",
    "plt.ylabel('y-coord')\n",
    "plt.title('Sine wave')\n",
    "plt.show()"
   ]
  },
  {
   "cell_type": "code",
   "execution_count": null,
   "id": "2a441416",
   "metadata": {},
   "outputs": [],
   "source": [
    "# Plot sine and cos waves\n",
    "f1, f2 = 1, 2\n",
    "x1 = np.linspace(-1, 1, 51)\n",
    "y1 = np.sin(2 * np.pi * f1 * x1)\n",
    "x2 = np.linspace(-1, 1, 51)\n",
    "y2 = np.cos(2 * np.pi * f2 * x2)\n",
    "\n",
    "plt.plot(x1, y1, 'r--', label= 'sin')\n",
    "plt.plot(x2, y2, 'b*-', label= 'cos')\n",
    "plt.xlabel('x coordinates')\n",
    "plt.ylabel('y coordinates')\n",
    "plt.title('A Matplotlib example')\n",
    "plt.legend(loc='best')\n",
    "plt.grid(axis='both')\n",
    "plt.show()"
   ]
  },
  {
   "cell_type": "code",
   "execution_count": null,
   "id": "4fc6784c",
   "metadata": {},
   "outputs": [],
   "source": [
    "# Plot text, horizontal or vertical lines\n",
    "f = 1\n",
    "x = np.linspace(0, 1, 21)\n",
    "y = np.sin(2 * np.pi * f * x)\n",
    "\n",
    "plt.axhline(0, color='red', ls='--', lw=2)\n",
    "plt.axhline(-1.0, color='green', ls=':', lw=1)\n",
    "plt.axvline(0.5, color='blue', ls='-', lw=1)\n",
    "plt.text(0.5, 0.5, 'x=0.5', rotation='vertical')\n",
    "plt.text(0.2, -1.0, 'y=-1.0')\n",
    "plt.plot(x, y)\n",
    "plt.show()"
   ]
  },
  {
   "cell_type": "code",
   "execution_count": null,
   "id": "253b8c2a",
   "metadata": {},
   "outputs": [],
   "source": [
    "# Scatter plot of y vs x\n",
    "np.random.seed(42)\n",
    "pts = np.random.randint(0, 20, (10, 2))\n",
    "x = pts[:, 0]\n",
    "y = pts[:, 1]\n",
    "\n",
    "plt.scatter(x, y, color='b', marker='*')\n",
    "plt.xlabel('x-coord')\n",
    "plt.ylabel('y-coord')\n",
    "plt.title('A Matplotlib scatterplot example')\n",
    "plt.grid(axis='both')\n",
    "plt.show()"
   ]
  },
  {
   "cell_type": "code",
   "execution_count": null,
   "id": "131428a8",
   "metadata": {},
   "outputs": [],
   "source": [
    "# Bubble chart with scatter plot\n",
    "np.random.seed(42)\n",
    "pts = np.random.randint(0, 20, (10, 3))\n",
    "x = pts[:, 0]\n",
    "y = pts[:, 1]\n",
    "s = pts[:, 2]\n",
    "\n",
    "plt.scatter(x, y, color='b', s=s*50, alpha=0.5)\n",
    "plt.xlabel('x-coord')\n",
    "plt.ylabel('y-coord')\n",
    "plt.title('A Bubble Chart')\n",
    "plt.grid(axis='both')\n",
    "plt.show()"
   ]
  },
  {
   "cell_type": "code",
   "execution_count": null,
   "id": "2d02a4d9",
   "metadata": {
    "scrolled": true
   },
   "outputs": [],
   "source": [
    "# Plot the historgram for normally distributed random numbers\n",
    "np.random.seed(42)\n",
    "values = np.random.randn(10000)\n",
    "bins_1 = np.arange(0, 21)\n",
    "\n",
    "plt.hist(values, color='b', bins=10)\n",
    "plt.xlabel('Value')\n",
    "plt.ylabel('Frequency of occurrence')\n",
    "plt.title('Historgram of normally distributed random numbers')\n",
    "plt.grid(axis='y')\n",
    "plt.show()"
   ]
  },
  {
   "cell_type": "code",
   "execution_count": null,
   "id": "72184d2f",
   "metadata": {},
   "outputs": [],
   "source": [
    "# Plot the historgram for uniformly distributed random numbers\n",
    "np.random.seed(42)\n",
    "values = np.random.rand(10000)\n",
    "\n",
    "plt.hist(values, color='b', bins=10)\n",
    "plt.xlabel('Value')\n",
    "plt.ylabel('Frequency of occurrence')\n",
    "plt.title('Historgram of uniformly distributed random numbers')\n",
    "plt.grid(axis='y')\n",
    "plt.show()"
   ]
  },
  {
   "cell_type": "code",
   "execution_count": null,
   "id": "2ef9bf01",
   "metadata": {},
   "outputs": [],
   "source": [
    "# Plot a vertical bar chart\n",
    "x = ['A', 'B', 'C', 'F']\n",
    "y = [21, 42, 29, 8]\n",
    "\n",
    "plt.bar(x, y, color=['b', 'g', 'g', 'r'])\n",
    "plt.xlabel('Grade')\n",
    "plt.ylabel('No. of students')\n",
    "plt.title('Summary of results')\n",
    "plt.show()"
   ]
  },
  {
   "cell_type": "code",
   "execution_count": null,
   "id": "7f936a21",
   "metadata": {},
   "outputs": [],
   "source": [
    "# Plot a horizontal bar chart\n",
    "plt.barh(x, y, color=['b', 'g', 'g', 'r'])\n",
    "plt.xlabel('No. of students')\n",
    "plt.ylabel('Grade')\n",
    "plt.title('Summary of results')\n",
    "plt.gca().invert_yaxis()\n",
    "plt.show()"
   ]
  },
  {
   "cell_type": "code",
   "execution_count": null,
   "id": "22b44c10",
   "metadata": {
    "scrolled": true
   },
   "outputs": [],
   "source": [
    "# Plot a pie chart\n",
    "values = np.array([21, 42, 29, 8])\n",
    "labels = ['A', 'B', 'C', 'F']\n",
    "\n",
    "plt.pie(values, explode=(0,0,0,0.1), labels=labels, autopct='%.0f')\n",
    "plt.title('Summary of results')\n",
    "plt.show()"
   ]
  },
  {
   "cell_type": "code",
   "execution_count": null,
   "id": "e793d8ac",
   "metadata": {},
   "outputs": [],
   "source": [
    "# Creating subplots\n",
    "f1, f2 = 1, 2\n",
    "x = np.linspace(0, 2, 50)\n",
    "y1 = np.sin(2 * np.pi * f1 * x)\n",
    "y2 = np.sin(2 * np.pi * f2 * x)\n",
    "\n",
    "fig, ax = plt.subplots(2, 1, sharex=True)\n",
    "ax[0].plot(x, y1, 'r', label='1Hz')\n",
    "ax[1].plot(x, y2, 'b', label='2Hz')\n",
    "ax[0].set_title('Signal 1')\n",
    "ax[1].set_title('Signal 2')\n",
    "ax[0].set_xticks(np.linspace(0, 2, 5))\n",
    "ax[0].grid(True)\n",
    "ax[1].grid(True)\n",
    "ax[0].legend(loc=1)\n",
    "ax[1].legend(loc=1)\n",
    "fig.suptitle('Example of Subplots')\n",
    "# plt.subplots_adjust(hspace=0.5)\n",
    "plt.show()"
   ]
  },
  {
   "cell_type": "code",
   "execution_count": null,
   "id": "352783e2",
   "metadata": {},
   "outputs": [],
   "source": [
    "%matplotlib notebook\n",
    "import matplotlib.pyplot as plt\n",
    "import numpy as np\n",
    "\n",
    "x = np.linspace(-2, 2, 50)*np.pi\n",
    "y = np.linspace(-2, 2, 50)*np.pi\n",
    "X, Y = np.meshgrid(x, y)\n",
    "Z = np.sin(X) + np.cos(Y)\n",
    "\n",
    "plt.figure(1, figsize = (12, 4))\n",
    "ax = plt.axes(projection='3d')\n",
    "ax.plot_surface(X, Y, Z, rstride=1, cstride=1, cmap='coolwarm', linewidth=0.1)\n",
    "plt.show()"
   ]
  },
  {
   "cell_type": "code",
   "execution_count": null,
   "id": "1a3b9d00",
   "metadata": {},
   "outputs": [],
   "source": [
    "%matplotlib inline\n",
    "import matplotlib.pyplot as plt\n",
    "import matplotlib.image as mpimg\n",
    "\n",
    "img = mpimg.imread('screen_image.png')\n",
    "\n",
    "plt.imshow(img)\n",
    "plt.axis(False)\n",
    "plt.show()"
   ]
  }
 ],
 "metadata": {
  "kernelspec": {
   "display_name": "Python 3 (ipykernel)",
   "language": "python",
   "name": "python3"
  },
  "language_info": {
   "codemirror_mode": {
    "name": "ipython",
    "version": 3
   },
   "file_extension": ".py",
   "mimetype": "text/x-python",
   "name": "python",
   "nbconvert_exporter": "python",
   "pygments_lexer": "ipython3",
   "version": "3.9.12"
  }
 },
 "nbformat": 4,
 "nbformat_minor": 5
}
